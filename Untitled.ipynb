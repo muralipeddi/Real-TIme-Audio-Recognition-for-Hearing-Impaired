{
 "cells": [
  {
   "cell_type": "code",
   "execution_count": 4,
   "id": "eeded87b",
   "metadata": {},
   "outputs": [
    {
     "name": "stdout",
     "output_type": "stream",
     "text": [
      "Please start speaking...\n",
      "Text: hello hay hello hay hello hello\n"
     ]
    },
    {
     "data": {
      "text/plain": [
       "'hello hay hello hay hello hello'"
      ]
     },
     "execution_count": 4,
     "metadata": {},
     "output_type": "execute_result"
    }
   ],
   "source": [
    "import speech_recognition as sr\n",
    "\n",
    "def recognize_speech(timeout=5):\n",
    "    # Initialize the recognizer\n",
    "    recognizer = sr.Recognizer()\n",
    "\n",
    "    with sr.Microphone() as source:\n",
    "        print(\"Please start speaking...\")\n",
    "        try:\n",
    "            recognizer.adjust_for_ambient_noise(source)\n",
    "            audio = recognizer.listen(source, timeout=timeout)\n",
    "            text = recognizer.recognize_google(audio) # Google Web Speech API for recognition\n",
    "            print(\"Text:\", text)\n",
    "            return text\n",
    "\n",
    "        except sr.WaitTimeoutError:\n",
    "            print(\"Speech recognition timed out. Program will now exit.\")\n",
    "            exit(1)\n",
    "\n",
    "        except sr.UnknownValueError:\n",
    "            print(\"Speech not recognized. Please try again.\")\n",
    "            return None\n",
    "\n",
    "#if __name__ == \"__main__\":\n",
    "#    recognition_timeout = 5 # in seconds\n",
    "#    recognized_text = recognize_speech(timeout=recognition_timeout)\n",
    "recognize_speech(timeout=5)"
   ]
  },
  {
   "cell_type": "code",
   "execution_count": null,
   "id": "3ae2d4a0",
   "metadata": {},
   "outputs": [],
   "source": []
  },
  {
   "cell_type": "code",
   "execution_count": null,
   "id": "8d64ec4d",
   "metadata": {},
   "outputs": [],
   "source": []
  }
 ],
 "metadata": {
  "kernelspec": {
   "display_name": "Python 3 (ipykernel)",
   "language": "python",
   "name": "python3"
  },
  "language_info": {
   "codemirror_mode": {
    "name": "ipython",
    "version": 3
   },
   "file_extension": ".py",
   "mimetype": "text/x-python",
   "name": "python",
   "nbconvert_exporter": "python",
   "pygments_lexer": "ipython3",
   "version": "3.11.4"
  }
 },
 "nbformat": 4,
 "nbformat_minor": 5
}
